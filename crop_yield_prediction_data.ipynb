{
  "nbformat": 4,
  "nbformat_minor": 0,
  "metadata": {
    "colab": {
      "provenance": []
    },
    "kernelspec": {
      "name": "python3",
      "display_name": "Python 3"
    },
    "language_info": {
      "name": "python"
    }
  },
  "cells": [
    {
      "cell_type": "markdown",
      "source": [
        "# **Part 1**"
      ],
      "metadata": {
        "id": "gabXfxGtYiOv"
      }
    },
    {
      "cell_type": "markdown",
      "source": [
        "# **Import Libraries**"
      ],
      "metadata": {
        "id": "XKycSz90kLEz"
      }
    },
    {
      "cell_type": "code",
      "execution_count": 32,
      "metadata": {
        "id": "0IUGVtEZgiq4"
      },
      "outputs": [],
      "source": [
        "import pandas as pd"
      ]
    },
    {
      "cell_type": "markdown",
      "source": [
        "Step 1: Read the datasets"
      ],
      "metadata": {
        "id": "A7TFDP2pkiRb"
      }
    },
    {
      "cell_type": "code",
      "source": [
        "# We start by loading all the provided CSV files into pandas DataFrames.\n",
        "print(\"--- Step 1: Reading Datasets ---\")\n",
        "df_pesticides = pd.read_csv('/content/pesticides.csv')\n",
        "df_rainfall = pd.read_csv('/content/rainfall.csv')\n",
        "df_temp = pd.read_csv('/content/temp.csv')\n",
        "df_yield = pd.read_csv('/content/yield.csv')\n",
        "df_yield_df = pd.read_csv('/content/yield_df.csv') # This file appears to be a pre-merged dataset.\n",
        "print(\"All CSV files have been loaded into DataFrames.\")\n"
      ],
      "metadata": {
        "colab": {
          "base_uri": "https://localhost:8080/"
        },
        "id": "ZUcj776Xkjz4",
        "outputId": "b54eb290-b8f8-4605-af9d-5af66241f3a8"
      },
      "execution_count": 33,
      "outputs": [
        {
          "output_type": "stream",
          "name": "stdout",
          "text": [
            "--- Step 1: Reading Datasets ---\n",
            "All CSV files have been loaded into DataFrames.\n"
          ]
        }
      ]
    },
    {
      "cell_type": "markdown",
      "source": [
        "Step 2: Initial Data Inspection"
      ],
      "metadata": {
        "id": "diDSL-DNlFJm"
      }
    },
    {
      "cell_type": "code",
      "source": [
        "# It's crucial to inspect each DataFrame to understand its structure, column names,\n",
        "# data types, and identify any missing values or inconsistencies.\n",
        "\n",
        "print(\"\\n--- Initial Inspection: pesticides.csv ---\")\n",
        "print(df_pesticides.head().to_markdown(index=False, numalign=\"left\", stralign=\"left\"))\n",
        "print(df_pesticides.info())\n",
        "\n",
        "print(\"\\n--- Initial Inspection: rainfall.csv ---\")\n",
        "print(df_rainfall.head().to_markdown(index=False, numalign=\"left\", stralign=\"left\"))\n",
        "print(df_rainfall.info())\n",
        "\n",
        "print(\"\\n--- Initial Inspection: temp.csv ---\")\n",
        "print(df_temp.head().to_markdown(index=False, numalign=\"left\", stralign=\"left\"))\n",
        "print(df_temp.info())\n",
        "\n",
        "print(\"\\n--- Initial Inspection: yield.csv ---\")\n",
        "print(df_yield.head().to_markdown(index=False, numalign=\"left\", stralign=\"left\"))\n",
        "print(df_yield.info())\n",
        "\n",
        "print(\"\\n--- Initial Inspection: yield_df.csv (Pre-merged dataset) ---\")\n",
        "print(df_yield_df.head().to_markdown(index=False, numalign=\"left\", stralign=\"left\"))\n",
        "print(df_yield_df.info())"
      ],
      "metadata": {
        "colab": {
          "base_uri": "https://localhost:8080/"
        },
        "id": "yYg22rvZlGiQ",
        "outputId": "9f3a9401-e862-423a-a1ec-dac4c654dd3a"
      },
      "execution_count": 34,
      "outputs": [
        {
          "output_type": "stream",
          "name": "stdout",
          "text": [
            "\n",
            "--- Initial Inspection: pesticides.csv ---\n",
            "| Domain         | Area    | Element   | Item               | Year   | Unit                         | Value   |\n",
            "|:---------------|:--------|:----------|:-------------------|:-------|:-----------------------------|:--------|\n",
            "| Pesticides Use | Albania | Use       | Pesticides (total) | 1990   | tonnes of active ingredients | 121     |\n",
            "| Pesticides Use | Albania | Use       | Pesticides (total) | 1991   | tonnes of active ingredients | 121     |\n",
            "| Pesticides Use | Albania | Use       | Pesticides (total) | 1992   | tonnes of active ingredients | 121     |\n",
            "| Pesticides Use | Albania | Use       | Pesticides (total) | 1993   | tonnes of active ingredients | 121     |\n",
            "| Pesticides Use | Albania | Use       | Pesticides (total) | 1994   | tonnes of active ingredients | 201     |\n",
            "<class 'pandas.core.frame.DataFrame'>\n",
            "RangeIndex: 4349 entries, 0 to 4348\n",
            "Data columns (total 7 columns):\n",
            " #   Column   Non-Null Count  Dtype  \n",
            "---  ------   --------------  -----  \n",
            " 0   Domain   4349 non-null   object \n",
            " 1   Area     4349 non-null   object \n",
            " 2   Element  4349 non-null   object \n",
            " 3   Item     4349 non-null   object \n",
            " 4   Year     4349 non-null   int64  \n",
            " 5   Unit     4349 non-null   object \n",
            " 6   Value    4349 non-null   float64\n",
            "dtypes: float64(1), int64(1), object(5)\n",
            "memory usage: 238.0+ KB\n",
            "None\n",
            "\n",
            "--- Initial Inspection: rainfall.csv ---\n",
            "|  Area       | Year   | average_rain_fall_mm_per_year   |\n",
            "|:------------|:-------|:--------------------------------|\n",
            "| Afghanistan | 1985   | 327                             |\n",
            "| Afghanistan | 1986   | 327                             |\n",
            "| Afghanistan | 1987   | 327                             |\n",
            "| Afghanistan | 1989   | 327                             |\n",
            "| Afghanistan | 1990   | 327                             |\n",
            "<class 'pandas.core.frame.DataFrame'>\n",
            "RangeIndex: 6727 entries, 0 to 6726\n",
            "Data columns (total 3 columns):\n",
            " #   Column                         Non-Null Count  Dtype \n",
            "---  ------                         --------------  ----- \n",
            " 0    Area                          6727 non-null   object\n",
            " 1   Year                           6727 non-null   int64 \n",
            " 2   average_rain_fall_mm_per_year  5953 non-null   object\n",
            "dtypes: int64(1), object(2)\n",
            "memory usage: 157.8+ KB\n",
            "None\n",
            "\n",
            "--- Initial Inspection: temp.csv ---\n",
            "| year   | country       | avg_temp   |\n",
            "|:-------|:--------------|:-----------|\n",
            "| 1849   | Côte D'Ivoire | 25.58      |\n",
            "| 1850   | Côte D'Ivoire | 25.52      |\n",
            "| 1851   | Côte D'Ivoire | 25.67      |\n",
            "| 1852   | Côte D'Ivoire | nan        |\n",
            "| 1853   | Côte D'Ivoire | nan        |\n",
            "<class 'pandas.core.frame.DataFrame'>\n",
            "RangeIndex: 71311 entries, 0 to 71310\n",
            "Data columns (total 3 columns):\n",
            " #   Column    Non-Null Count  Dtype  \n",
            "---  ------    --------------  -----  \n",
            " 0   year      71311 non-null  int64  \n",
            " 1   country   71311 non-null  object \n",
            " 2   avg_temp  68764 non-null  float64\n",
            "dtypes: float64(1), int64(1), object(1)\n",
            "memory usage: 1.6+ MB\n",
            "None\n",
            "\n",
            "--- Initial Inspection: yield.csv ---\n",
            "| Domain Code   | Domain   | Area Code   | Area        | Element Code   | Element   | Item Code   | Item   | Year Code   | Year   | Unit   | Value   |\n",
            "|:--------------|:---------|:------------|:------------|:---------------|:----------|:------------|:-------|:------------|:-------|:-------|:--------|\n",
            "| QC            | Crops    | 2           | Afghanistan | 5419           | Yield     | 56          | Maize  | 1961        | 1961   | hg/ha  | 14000   |\n",
            "| QC            | Crops    | 2           | Afghanistan | 5419           | Yield     | 56          | Maize  | 1962        | 1962   | hg/ha  | 14000   |\n",
            "| QC            | Crops    | 2           | Afghanistan | 5419           | Yield     | 56          | Maize  | 1963        | 1963   | hg/ha  | 14260   |\n",
            "| QC            | Crops    | 2           | Afghanistan | 5419           | Yield     | 56          | Maize  | 1964        | 1964   | hg/ha  | 14257   |\n",
            "| QC            | Crops    | 2           | Afghanistan | 5419           | Yield     | 56          | Maize  | 1965        | 1965   | hg/ha  | 14400   |\n",
            "<class 'pandas.core.frame.DataFrame'>\n",
            "RangeIndex: 56717 entries, 0 to 56716\n",
            "Data columns (total 12 columns):\n",
            " #   Column        Non-Null Count  Dtype \n",
            "---  ------        --------------  ----- \n",
            " 0   Domain Code   56717 non-null  object\n",
            " 1   Domain        56717 non-null  object\n",
            " 2   Area Code     56717 non-null  int64 \n",
            " 3   Area          56717 non-null  object\n",
            " 4   Element Code  56717 non-null  int64 \n",
            " 5   Element       56717 non-null  object\n",
            " 6   Item Code     56717 non-null  int64 \n",
            " 7   Item          56717 non-null  object\n",
            " 8   Year Code     56717 non-null  int64 \n",
            " 9   Year          56717 non-null  int64 \n",
            " 10  Unit          56717 non-null  object\n",
            " 11  Value         56717 non-null  int64 \n",
            "dtypes: int64(6), object(6)\n",
            "memory usage: 5.2+ MB\n",
            "None\n",
            "\n",
            "--- Initial Inspection: yield_df.csv (Pre-merged dataset) ---\n",
            "| Unnamed: 0   | Area    | Item        | Year   | hg/ha_yield   | average_rain_fall_mm_per_year   | pesticides_tonnes   | avg_temp   |\n",
            "|:-------------|:--------|:------------|:-------|:--------------|:--------------------------------|:--------------------|:-----------|\n",
            "| 0            | Albania | Maize       | 1990   | 36613         | 1485                            | 121                 | 16.37      |\n",
            "| 1            | Albania | Potatoes    | 1990   | 66667         | 1485                            | 121                 | 16.37      |\n",
            "| 2            | Albania | Rice, paddy | 1990   | 23333         | 1485                            | 121                 | 16.37      |\n",
            "| 3            | Albania | Sorghum     | 1990   | 12500         | 1485                            | 121                 | 16.37      |\n",
            "| 4            | Albania | Soybeans    | 1990   | 7000          | 1485                            | 121                 | 16.37      |\n",
            "<class 'pandas.core.frame.DataFrame'>\n",
            "RangeIndex: 28242 entries, 0 to 28241\n",
            "Data columns (total 8 columns):\n",
            " #   Column                         Non-Null Count  Dtype  \n",
            "---  ------                         --------------  -----  \n",
            " 0   Unnamed: 0                     28242 non-null  int64  \n",
            " 1   Area                           28242 non-null  object \n",
            " 2   Item                           28242 non-null  object \n",
            " 3   Year                           28242 non-null  int64  \n",
            " 4   hg/ha_yield                    28242 non-null  int64  \n",
            " 5   average_rain_fall_mm_per_year  28242 non-null  float64\n",
            " 6   pesticides_tonnes              28242 non-null  float64\n",
            " 7   avg_temp                       28242 non-null  float64\n",
            "dtypes: float64(3), int64(3), object(2)\n",
            "memory usage: 1.7+ MB\n",
            "None\n"
          ]
        }
      ]
    },
    {
      "cell_type": "markdown",
      "source": [
        "Step 3: Data Cleaning and Preprocessing"
      ],
      "metadata": {
        "id": "GWLbN9ELlarN"
      }
    },
    {
      "cell_type": "code",
      "source": [
        "# Based on the initial inspection, we identified some issues:\n",
        "# - `rainfall.csv`: ' average_rain_fall_mm_per_year' is an object type and has missing values.\n",
        "#   Also, the ' Area' column has leading/trailing spaces.\n",
        "# - `temp.csv`: 'avg_temp' has missing values.\n",
        "\n",
        "print(\"\\n--- Step 3: Cleaning and Preprocessing Data ---\")\n",
        "\n",
        "# Clean up df_rainfall: Remove leading/trailing spaces from column names and 'Area' column,\n",
        "# convert 'average_rain_fall_mm_per_year' to numeric, and impute missing values.\n",
        "df_rainfall.columns = df_rainfall.columns.str.strip()\n",
        "df_rainfall['Area'] = df_rainfall['Area'].str.strip()\n",
        "df_rainfall['average_rain_fall_mm_per_year'] = pd.to_numeric(\n",
        "    df_rainfall['average_rain_fall_mm_per_year'], errors='coerce'\n",
        ")\n",
        "df_rainfall['average_rain_fall_mm_per_year'].fillna(\n",
        "    df_rainfall['average_rain_fall_mm_per_year'].mean(), inplace=True\n",
        ")\n",
        "print(\"\\nCleaned rainfall.csv:\")\n",
        "print(df_rainfall.head().to_markdown(index=False, numalign=\"left\", stralign=\"left\"))\n",
        "print(df_rainfall.info())\n",
        "\n",
        "# Clean up df_temp: Remove leading/trailing spaces from column names and 'country' column,\n",
        "# and impute missing 'avg_temp' values.\n",
        "df_temp.columns = df_temp.columns.str.strip()\n",
        "df_temp['country'] = df_temp['country'].str.strip()\n",
        "df_temp['avg_temp'].fillna(df_temp['avg_temp'].mean(), inplace=True)\n",
        "print(\"\\nCleaned temp.csv:\")\n",
        "print(df_temp.head().to_markdown(index=False, numalign=\"left\", stralign=\"left\"))\n",
        "print(df_temp.info())"
      ],
      "metadata": {
        "colab": {
          "base_uri": "https://localhost:8080/"
        },
        "id": "8XLTLk5hkc4P",
        "outputId": "cf304a71-d477-4a4f-a817-b5c9e4ab3630"
      },
      "execution_count": 35,
      "outputs": [
        {
          "output_type": "stream",
          "name": "stdout",
          "text": [
            "\n",
            "--- Step 3: Cleaning and Preprocessing Data ---\n",
            "\n",
            "Cleaned rainfall.csv:\n",
            "| Area        | Year   | average_rain_fall_mm_per_year   |\n",
            "|:------------|:-------|:--------------------------------|\n",
            "| Afghanistan | 1985   | 327                             |\n",
            "| Afghanistan | 1986   | 327                             |\n",
            "| Afghanistan | 1987   | 327                             |\n",
            "| Afghanistan | 1989   | 327                             |\n",
            "| Afghanistan | 1990   | 327                             |\n",
            "<class 'pandas.core.frame.DataFrame'>\n",
            "RangeIndex: 6727 entries, 0 to 6726\n",
            "Data columns (total 3 columns):\n",
            " #   Column                         Non-Null Count  Dtype  \n",
            "---  ------                         --------------  -----  \n",
            " 0   Area                           6727 non-null   object \n",
            " 1   Year                           6727 non-null   int64  \n",
            " 2   average_rain_fall_mm_per_year  6727 non-null   float64\n",
            "dtypes: float64(1), int64(1), object(1)\n",
            "memory usage: 157.8+ KB\n",
            "None\n",
            "\n",
            "Cleaned temp.csv:\n",
            "| year   | country       | avg_temp   |\n",
            "|:-------|:--------------|:-----------|\n",
            "| 1849   | Côte D'Ivoire | 25.58      |\n",
            "| 1850   | Côte D'Ivoire | 25.52      |\n",
            "| 1851   | Côte D'Ivoire | 25.67      |\n",
            "| 1852   | Côte D'Ivoire | 16.1839    |\n",
            "| 1853   | Côte D'Ivoire | 16.1839    |\n",
            "<class 'pandas.core.frame.DataFrame'>\n",
            "RangeIndex: 71311 entries, 0 to 71310\n",
            "Data columns (total 3 columns):\n",
            " #   Column    Non-Null Count  Dtype  \n",
            "---  ------    --------------  -----  \n",
            " 0   year      71311 non-null  int64  \n",
            " 1   country   71311 non-null  object \n",
            " 2   avg_temp  71311 non-null  float64\n",
            "dtypes: float64(1), int64(1), object(1)\n",
            "memory usage: 1.6+ MB\n",
            "None\n"
          ]
        },
        {
          "output_type": "stream",
          "name": "stderr",
          "text": [
            "/tmp/ipython-input-2793541646.py:15: FutureWarning: A value is trying to be set on a copy of a DataFrame or Series through chained assignment using an inplace method.\n",
            "The behavior will change in pandas 3.0. This inplace method will never work because the intermediate object on which we are setting values always behaves as a copy.\n",
            "\n",
            "For example, when doing 'df[col].method(value, inplace=True)', try using 'df.method({col: value}, inplace=True)' or df[col] = df[col].method(value) instead, to perform the operation inplace on the original object.\n",
            "\n",
            "\n",
            "  df_rainfall['average_rain_fall_mm_per_year'].fillna(\n",
            "/tmp/ipython-input-2793541646.py:26: FutureWarning: A value is trying to be set on a copy of a DataFrame or Series through chained assignment using an inplace method.\n",
            "The behavior will change in pandas 3.0. This inplace method will never work because the intermediate object on which we are setting values always behaves as a copy.\n",
            "\n",
            "For example, when doing 'df[col].method(value, inplace=True)', try using 'df.method({col: value}, inplace=True)' or df[col] = df[col].method(value) instead, to perform the operation inplace on the original object.\n",
            "\n",
            "\n",
            "  df_temp['avg_temp'].fillna(df_temp['avg_temp'].mean(), inplace=True)\n"
          ]
        }
      ]
    },
    {
      "cell_type": "markdown",
      "source": [
        "Step 4: Rename Columns for Merging Consistency"
      ],
      "metadata": {
        "id": "QO5jxapqlwBZ"
      }
    },
    {
      "cell_type": "code",
      "source": [
        "# To ensure successful merging, we align column names across DataFrames.\n",
        "print(\"\\n--- Step 4: Renaming Columns for Consistency ---\")\n",
        "df_pesticides = df_pesticides.rename(columns={'Value': 'pesticides_tonnes', 'Area': 'country', 'Year': 'year'})\n",
        "df_rainfall = df_rainfall.rename(columns={'Area': 'country', 'Year': 'year'})\n",
        "df_temp = df_temp.rename(columns={'country': 'country', 'year': 'year'})\n",
        "df_yield = df_yield.rename(columns={'Value': 'hg/ha_yield', 'Area': 'country', 'Item': 'Crop', 'Year': 'year'})\n",
        "print(\"Columns renamed for merging consistency.\")"
      ],
      "metadata": {
        "colab": {
          "base_uri": "https://localhost:8080/"
        },
        "id": "77MV8CWdlrxQ",
        "outputId": "04ac0bdb-4eb0-48ca-dcde-66b4b1b25093"
      },
      "execution_count": 36,
      "outputs": [
        {
          "output_type": "stream",
          "name": "stdout",
          "text": [
            "\n",
            "--- Step 4: Renaming Columns for Consistency ---\n",
            "Columns renamed for merging consistency.\n"
          ]
        }
      ]
    },
    {
      "cell_type": "markdown",
      "source": [
        "Step 5: Join the Multiple Datasets"
      ],
      "metadata": {
        "id": "xOFS7RoOmByA"
      }
    },
    {
      "cell_type": "code",
      "source": [
        "# We will merge df_yield with pesticides, rainfall, and temperature data\n",
        "# using 'country' and 'year' as common keys. This creates a comprehensive dataset.\n",
        "print(\"\\n--- Step 5: Merging Datasets ---\")\n",
        "\n",
        "# Merge df_yield with df_pesticides\n",
        "merged_df = pd.merge(df_yield, df_pesticides[['country', 'year', 'pesticides_tonnes']],\n",
        "                     on=['country', 'year'], how='left')\n",
        "\n",
        "# Merge the result with df_rainfall\n",
        "merged_df = pd.merge(merged_df, df_rainfall[['country', 'year', 'average_rain_fall_mm_per_year']],\n",
        "                     on=['country', 'year'], how='left')\n",
        "\n",
        "# Merge the result with df_temp\n",
        "merged_df = pd.merge(merged_df, df_temp[['country', 'year', 'avg_temp']],\n",
        "                     on=['country', 'year'], how='left')\n",
        "\n",
        "print(\"\\n--- Merged DataFrame Head (After Initial Merge) ---\")\n",
        "print(merged_df.head().to_markdown(index=False, numalign=\"left\", stralign=\"left\"))\n",
        "\n",
        "print(\"\\n--- Merged DataFrame Info (After Initial Merge) ---\")\n",
        "print(merged_df.info())"
      ],
      "metadata": {
        "colab": {
          "base_uri": "https://localhost:8080/"
        },
        "id": "aJWOeeUClrs9",
        "outputId": "abf1614d-3d17-49d2-c886-67b4b9912581"
      },
      "execution_count": 37,
      "outputs": [
        {
          "output_type": "stream",
          "name": "stdout",
          "text": [
            "\n",
            "--- Step 5: Merging Datasets ---\n",
            "\n",
            "--- Merged DataFrame Head (After Initial Merge) ---\n",
            "| Domain Code   | Domain   | Area Code   | country     | Element Code   | Element   | Item Code   | Crop   | Year Code   | year   | Unit   | hg/ha_yield   | pesticides_tonnes   | average_rain_fall_mm_per_year   | avg_temp   |\n",
            "|:--------------|:---------|:------------|:------------|:---------------|:----------|:------------|:-------|:------------|:-------|:-------|:--------------|:--------------------|:--------------------------------|:-----------|\n",
            "| QC            | Crops    | 2           | Afghanistan | 5419           | Yield     | 56          | Maize  | 1961        | 1961   | hg/ha  | 14000         | nan                 | nan                             | 14.23      |\n",
            "| QC            | Crops    | 2           | Afghanistan | 5419           | Yield     | 56          | Maize  | 1962        | 1962   | hg/ha  | 14000         | nan                 | nan                             | 14.1       |\n",
            "| QC            | Crops    | 2           | Afghanistan | 5419           | Yield     | 56          | Maize  | 1963        | 1963   | hg/ha  | 14260         | nan                 | nan                             | 15.01      |\n",
            "| QC            | Crops    | 2           | Afghanistan | 5419           | Yield     | 56          | Maize  | 1964        | 1964   | hg/ha  | 14257         | nan                 | nan                             | 13.73      |\n",
            "| QC            | Crops    | 2           | Afghanistan | 5419           | Yield     | 56          | Maize  | 1965        | 1965   | hg/ha  | 14400         | nan                 | nan                             | 13.9       |\n",
            "\n",
            "--- Merged DataFrame Info (After Initial Merge) ---\n",
            "<class 'pandas.core.frame.DataFrame'>\n",
            "RangeIndex: 109366 entries, 0 to 109365\n",
            "Data columns (total 15 columns):\n",
            " #   Column                         Non-Null Count   Dtype  \n",
            "---  ------                         --------------   -----  \n",
            " 0   Domain Code                    109366 non-null  object \n",
            " 1   Domain                         109366 non-null  object \n",
            " 2   Area Code                      109366 non-null  int64  \n",
            " 3   country                        109366 non-null  object \n",
            " 4   Element Code                   109366 non-null  int64  \n",
            " 5   Element                        109366 non-null  object \n",
            " 6   Item Code                      109366 non-null  int64  \n",
            " 7   Crop                           109366 non-null  object \n",
            " 8   Year Code                      109366 non-null  int64  \n",
            " 9   year                           109366 non-null  int64  \n",
            " 10  Unit                           109366 non-null  object \n",
            " 11  hg/ha_yield                    109366 non-null  int64  \n",
            " 12  pesticides_tonnes              39918 non-null   float64\n",
            " 13  average_rain_fall_mm_per_year  53070 non-null   float64\n",
            " 14  avg_temp                       84859 non-null   float64\n",
            "dtypes: float64(3), int64(6), object(6)\n",
            "memory usage: 12.5+ MB\n",
            "None\n"
          ]
        }
      ]
    },
    {
      "cell_type": "markdown",
      "source": [
        "Step 6: Final Data Cleaning (Impute Missing Values After Merge)"
      ],
      "metadata": {
        "id": "K00IKmQDmOcW"
      }
    },
    {
      "cell_type": "code",
      "source": [
        "# After merging, some columns might still have missing values due to non-matching\n",
        "# entries across datasets. We impute these missing values with the mean.\n",
        "print(\"\\n--- Step 6: Imputing Missing Values in Merged Data ---\")\n",
        "\n",
        "print(\"Missing values before imputation:\")\n",
        "print(merged_df.isnull().sum().to_markdown(numalign=\"left\", stralign=\"left\"))\n",
        "\n",
        "merged_df['pesticides_tonnes'].fillna(merged_df['pesticides_tonnes'].mean(), inplace=True)\n",
        "merged_df['average_rain_fall_mm_per_year'].fillna(merged_df['average_rain_fall_mm_per_year'].mean(), inplace=True)\n",
        "merged_df['avg_temp'].fillna(merged_df['avg_temp'].mean(), inplace=True)\n",
        "\n",
        "print(\"\\nMissing values after imputation:\")\n",
        "print(merged_df.isnull().sum().to_markdown(numalign=\"left\", stralign=\"left\"))\n"
      ],
      "metadata": {
        "colab": {
          "base_uri": "https://localhost:8080/"
        },
        "id": "mnuWxqdclrlo",
        "outputId": "5a9b77bd-47f2-49f9-c665-cb6b5e0438fd"
      },
      "execution_count": 38,
      "outputs": [
        {
          "output_type": "stream",
          "name": "stdout",
          "text": [
            "\n",
            "--- Step 6: Imputing Missing Values in Merged Data ---\n",
            "Missing values before imputation:\n",
            "|                               | 0     |\n",
            "|:------------------------------|:------|\n",
            "| Domain Code                   | 0     |\n",
            "| Domain                        | 0     |\n",
            "| Area Code                     | 0     |\n",
            "| country                       | 0     |\n",
            "| Element Code                  | 0     |\n",
            "| Element                       | 0     |\n",
            "| Item Code                     | 0     |\n",
            "| Crop                          | 0     |\n",
            "| Year Code                     | 0     |\n",
            "| year                          | 0     |\n",
            "| Unit                          | 0     |\n",
            "| hg/ha_yield                   | 0     |\n",
            "| pesticides_tonnes             | 69448 |\n",
            "| average_rain_fall_mm_per_year | 56296 |\n",
            "| avg_temp                      | 24507 |\n",
            "\n",
            "Missing values after imputation:\n",
            "|                               | 0   |\n",
            "|:------------------------------|:----|\n",
            "| Domain Code                   | 0   |\n",
            "| Domain                        | 0   |\n",
            "| Area Code                     | 0   |\n",
            "| country                       | 0   |\n",
            "| Element Code                  | 0   |\n",
            "| Element                       | 0   |\n",
            "| Item Code                     | 0   |\n",
            "| Crop                          | 0   |\n",
            "| Year Code                     | 0   |\n",
            "| year                          | 0   |\n",
            "| Unit                          | 0   |\n",
            "| hg/ha_yield                   | 0   |\n",
            "| pesticides_tonnes             | 0   |\n",
            "| average_rain_fall_mm_per_year | 0   |\n",
            "| avg_temp                      | 0   |\n"
          ]
        },
        {
          "output_type": "stream",
          "name": "stderr",
          "text": [
            "/tmp/ipython-input-935032535.py:8: FutureWarning: A value is trying to be set on a copy of a DataFrame or Series through chained assignment using an inplace method.\n",
            "The behavior will change in pandas 3.0. This inplace method will never work because the intermediate object on which we are setting values always behaves as a copy.\n",
            "\n",
            "For example, when doing 'df[col].method(value, inplace=True)', try using 'df.method({col: value}, inplace=True)' or df[col] = df[col].method(value) instead, to perform the operation inplace on the original object.\n",
            "\n",
            "\n",
            "  merged_df['pesticides_tonnes'].fillna(merged_df['pesticides_tonnes'].mean(), inplace=True)\n",
            "/tmp/ipython-input-935032535.py:9: FutureWarning: A value is trying to be set on a copy of a DataFrame or Series through chained assignment using an inplace method.\n",
            "The behavior will change in pandas 3.0. This inplace method will never work because the intermediate object on which we are setting values always behaves as a copy.\n",
            "\n",
            "For example, when doing 'df[col].method(value, inplace=True)', try using 'df.method({col: value}, inplace=True)' or df[col] = df[col].method(value) instead, to perform the operation inplace on the original object.\n",
            "\n",
            "\n",
            "  merged_df['average_rain_fall_mm_per_year'].fillna(merged_df['average_rain_fall_mm_per_year'].mean(), inplace=True)\n",
            "/tmp/ipython-input-935032535.py:10: FutureWarning: A value is trying to be set on a copy of a DataFrame or Series through chained assignment using an inplace method.\n",
            "The behavior will change in pandas 3.0. This inplace method will never work because the intermediate object on which we are setting values always behaves as a copy.\n",
            "\n",
            "For example, when doing 'df[col].method(value, inplace=True)', try using 'df.method({col: value}, inplace=True)' or df[col] = df[col].method(value) instead, to perform the operation inplace on the original object.\n",
            "\n",
            "\n",
            "  merged_df['avg_temp'].fillna(merged_df['avg_temp'].mean(), inplace=True)\n"
          ]
        }
      ]
    },
    {
      "cell_type": "markdown",
      "source": [
        "Step 7: Basic Exploratory Data Analysis (EDA) on the Merged Data"
      ],
      "metadata": {
        "id": "1iJuHDvnmx6y"
      }
    },
    {
      "cell_type": "code",
      "source": [
        " # Now that the data is merged and cleaned, we perform some basic analysis\n",
        "# to understand the combined dataset.\n",
        "print(\"\\n--- Step 7: Basic Exploratory Data Analysis on Merged Data ---\")\n",
        "\n",
        "# Descriptive statistics for numerical columns\n",
        "print(\"\\nDescriptive statistics for numerical columns:\")\n",
        "print(merged_df[['hg/ha_yield', 'pesticides_tonnes', 'average_rain_fall_mm_per_year', 'avg_temp']].describe().to_markdown(numalign=\"left\", stralign=\"left\"))\n",
        "\n",
        "# Unique countries and crops\n",
        "print(\"\\nNumber of unique countries:\")\n",
        "print(f\"Number of unique countries: {merged_df['country'].nunique()}\")\n",
        "\n",
        "print(\"\\nTop 10 unique crops:\")\n",
        "print(merged_df['Crop'].value_counts().head(10).to_markdown(numalign=\"left\", stralign=\"left\"))\n",
        "\n",
        "print(\"\\nNumber of unique crops:\")\n",
        "print(f\"Number of unique crops: {merged_df['Crop'].nunique()}\")"
      ],
      "metadata": {
        "colab": {
          "base_uri": "https://localhost:8080/"
        },
        "id": "ge5LWEC7mQWH",
        "outputId": "87fb0c08-0e11-45d8-830c-ca292e9244ac"
      },
      "execution_count": 39,
      "outputs": [
        {
          "output_type": "stream",
          "name": "stdout",
          "text": [
            "\n",
            "--- Step 7: Basic Exploratory Data Analysis on Merged Data ---\n",
            "\n",
            "Descriptive statistics for numerical columns:\n",
            "|       | hg/ha_yield   | pesticides_tonnes   | average_rain_fall_mm_per_year   | avg_temp   |\n",
            "|:------|:--------------|:--------------------|:--------------------------------|:-----------|\n",
            "| count | 109366        | 109366              | 109366                          | 109366     |\n",
            "| mean  | 65054.7       | 38414.6             | 1142.83                         | 19.6925    |\n",
            "| std   | 69140.6       | 71501.3             | 501.189                         | 5.93448    |\n",
            "| min   | 0             | 0                   | 51                              | -4.24      |\n",
            "| 25%   | 16270.2       | 32223.4             | 1083                            | 16.75      |\n",
            "| 50%   | 37015.5       | 38414.6             | 1142.83                         | 19.6925    |\n",
            "| 75%   | 94200         | 38414.6             | 1142.83                         | 25.16      |\n",
            "| max   | 1e+06         | 1.807e+06           | 3240                            | 30.65      |\n",
            "\n",
            "Number of unique countries:\n",
            "Number of unique countries: 212\n",
            "\n",
            "Top 10 unique crops:\n",
            "| Crop                 | count   |\n",
            "|:---------------------|:--------|\n",
            "| Maize                | 15650   |\n",
            "| Potatoes             | 15062   |\n",
            "| Rice, paddy          | 12979   |\n",
            "| Wheat                | 12923   |\n",
            "| Sweet potatoes       | 12506   |\n",
            "| Sorghum              | 11299   |\n",
            "| Soybeans             | 10805   |\n",
            "| Cassava              | 10435   |\n",
            "| Yams                 | 4477    |\n",
            "| Plantains and others | 3230    |\n",
            "\n",
            "Number of unique crops:\n",
            "Number of unique crops: 10\n"
          ]
        }
      ]
    },
    {
      "cell_type": "markdown",
      "source": [
        "Step 8: Save the Final Merged Dataset"
      ],
      "metadata": {
        "id": "a4dXbCXIm9QG"
      }
    },
    {
      "cell_type": "code",
      "source": [
        "# Finally, we save the cleaned and merged DataFrame to a new CSV file.\n",
        "merged_df.to_csv('final_merged_data.csv', index=False)\n",
        "print(\"\\nFinal merged data saved to 'final_merged_data.csv'\")"
      ],
      "metadata": {
        "colab": {
          "base_uri": "https://localhost:8080/"
        },
        "id": "G0cIbVCymQSL",
        "outputId": "5eb505e1-8f0f-49e1-c1cb-305c9b4052c1"
      },
      "execution_count": 40,
      "outputs": [
        {
          "output_type": "stream",
          "name": "stdout",
          "text": [
            "\n",
            "Final merged data saved to 'final_merged_data.csv'\n"
          ]
        }
      ]
    },
    {
      "cell_type": "markdown",
      "source": [
        "# Part 2"
      ],
      "metadata": {
        "id": "4u6wRkQJYdNv"
      }
    },
    {
      "cell_type": "markdown",
      "source": [
        "**Import Libraries**"
      ],
      "metadata": {
        "id": "43YYOg80YGKc"
      }
    },
    {
      "cell_type": "code",
      "source": [
        "import pandas as pd\n",
        "from sklearn.model_selection import train_test_split\n",
        "from sklearn.preprocessing import MinMaxScaler\n",
        "from sklearn.ensemble import RandomForestRegressor\n",
        "from sklearn.metrics import mean_absolute_error, mean_squared_error, r2_score\n",
        "import numpy as np\n"
      ],
      "metadata": {
        "id": "dACx-ph-nCR5"
      },
      "execution_count": 41,
      "outputs": []
    },
    {
      "cell_type": "markdown",
      "source": [
        "**Step 1: Load the final_merged_data.csv file**"
      ],
      "metadata": {
        "id": "RDckCMQOYv0t"
      }
    },
    {
      "cell_type": "code",
      "source": [
        "# We'll load the final, merged dataset as the foundation for our model.\n",
        "print(\"--- Step 1: Loading the merged dataset ---\")\n",
        "try:\n",
        "    df = pd.read_csv('/content/final_merged_data.csv')\n",
        "    print(\"Dataset loaded successfully. Here's a preview:\")\n",
        "    print(df.head())\n",
        "    print(df.info())\n",
        "except FileNotFoundError:\n",
        "    print(\"Error: 'final_merged_data (1).csv' not found. Please ensure the file is in the correct directory.\")\n",
        "    exit()\n"
      ],
      "metadata": {
        "colab": {
          "base_uri": "https://localhost:8080/"
        },
        "id": "OLYXrFjnYsQD",
        "outputId": "b5ed244a-4095-4e7e-902e-f898fe54db9a"
      },
      "execution_count": 42,
      "outputs": [
        {
          "output_type": "stream",
          "name": "stdout",
          "text": [
            "--- Step 1: Loading the merged dataset ---\n",
            "Dataset loaded successfully. Here's a preview:\n",
            "  Domain Code Domain  Area Code      country  Element Code Element  Item Code  \\\n",
            "0          QC  Crops          2  Afghanistan          5419   Yield         56   \n",
            "1          QC  Crops          2  Afghanistan          5419   Yield         56   \n",
            "2          QC  Crops          2  Afghanistan          5419   Yield         56   \n",
            "3          QC  Crops          2  Afghanistan          5419   Yield         56   \n",
            "4          QC  Crops          2  Afghanistan          5419   Yield         56   \n",
            "\n",
            "    Crop  Year Code  year   Unit  hg/ha_yield  pesticides_tonnes  \\\n",
            "0  Maize       1961  1961  hg/ha        14000       38414.593847   \n",
            "1  Maize       1962  1962  hg/ha        14000       38414.593847   \n",
            "2  Maize       1963  1963  hg/ha        14260       38414.593847   \n",
            "3  Maize       1964  1964  hg/ha        14257       38414.593847   \n",
            "4  Maize       1965  1965  hg/ha        14400       38414.593847   \n",
            "\n",
            "   average_rain_fall_mm_per_year  avg_temp  \n",
            "0                    1142.832563     14.23  \n",
            "1                    1142.832563     14.10  \n",
            "2                    1142.832563     15.01  \n",
            "3                    1142.832563     13.73  \n",
            "4                    1142.832563     13.90  \n",
            "<class 'pandas.core.frame.DataFrame'>\n",
            "RangeIndex: 109366 entries, 0 to 109365\n",
            "Data columns (total 15 columns):\n",
            " #   Column                         Non-Null Count   Dtype  \n",
            "---  ------                         --------------   -----  \n",
            " 0   Domain Code                    109366 non-null  object \n",
            " 1   Domain                         109366 non-null  object \n",
            " 2   Area Code                      109366 non-null  int64  \n",
            " 3   country                        109366 non-null  object \n",
            " 4   Element Code                   109366 non-null  int64  \n",
            " 5   Element                        109366 non-null  object \n",
            " 6   Item Code                      109366 non-null  int64  \n",
            " 7   Crop                           109366 non-null  object \n",
            " 8   Year Code                      109366 non-null  int64  \n",
            " 9   year                           109366 non-null  int64  \n",
            " 10  Unit                           109366 non-null  object \n",
            " 11  hg/ha_yield                    109366 non-null  int64  \n",
            " 12  pesticides_tonnes              109366 non-null  float64\n",
            " 13  average_rain_fall_mm_per_year  109366 non-null  float64\n",
            " 14  avg_temp                       109366 non-null  float64\n",
            "dtypes: float64(3), int64(6), object(6)\n",
            "memory usage: 12.5+ MB\n",
            "None\n"
          ]
        }
      ]
    },
    {
      "cell_type": "markdown",
      "source": [
        "Step 2: Define Dependent and Independent Variables"
      ],
      "metadata": {
        "id": "0_jwHLy7ZBpc"
      }
    },
    {
      "cell_type": "code",
      "source": [
        "# The dependent variable (y) is 'hg/ha_yield', which is what we want to predict.\n",
        "# The independent variables (features) are the factors that will be used for prediction.\n",
        "print(\"\\n--- Step 2: Defining Dependent and Independent Variables ---\")\n",
        "target = 'hg/ha_yield'\n",
        "y = df[target]\n",
        "\n",
        "features = df.drop(columns=[\n",
        "    'Domain Code', 'Domain', 'Area Code', 'Element Code', 'Element',\n",
        "    'Item Code', 'Year Code', 'Unit', target\n",
        "])\n",
        "\n",
        "print(f\"Dependent variable (y) selected: '{target}'\")\n",
        "print(f\"Shape of y: {y.shape}\")\n",
        "print(\"\\nSelected independent variables (features) preview:\")\n",
        "print(features.head())\n",
        "print(f\"Shape of features: {features.shape}\")"
      ],
      "metadata": {
        "id": "rZCxWpPflrZE",
        "colab": {
          "base_uri": "https://localhost:8080/"
        },
        "outputId": "5c530983-a7f6-4839-e485-27329901cd02"
      },
      "execution_count": 43,
      "outputs": [
        {
          "output_type": "stream",
          "name": "stdout",
          "text": [
            "\n",
            "--- Step 2: Defining Dependent and Independent Variables ---\n",
            "Dependent variable (y) selected: 'hg/ha_yield'\n",
            "Shape of y: (109366,)\n",
            "\n",
            "Selected independent variables (features) preview:\n",
            "       country   Crop  year  pesticides_tonnes  average_rain_fall_mm_per_year  \\\n",
            "0  Afghanistan  Maize  1961       38414.593847                    1142.832563   \n",
            "1  Afghanistan  Maize  1962       38414.593847                    1142.832563   \n",
            "2  Afghanistan  Maize  1963       38414.593847                    1142.832563   \n",
            "3  Afghanistan  Maize  1964       38414.593847                    1142.832563   \n",
            "4  Afghanistan  Maize  1965       38414.593847                    1142.832563   \n",
            "\n",
            "   avg_temp  \n",
            "0     14.23  \n",
            "1     14.10  \n",
            "2     15.01  \n",
            "3     13.73  \n",
            "4     13.90  \n",
            "Shape of features: (109366, 6)\n"
          ]
        }
      ]
    },
    {
      "cell_type": "markdown",
      "source": [
        "Step 3: Handle Categorical Variables (One-Hot Encoding)"
      ],
      "metadata": {
        "id": "wVyzhXhpZNXU"
      }
    },
    {
      "cell_type": "code",
      "source": [
        "# We convert categorical text data into a numerical format that the model can understand.\n",
        "print(\"\\n--- Step 3: Handling Categorical Variables (One-Hot Encoding) ---\")\n",
        "categorical_cols = features.select_dtypes(include=['object']).columns\n",
        "X = pd.get_dummies(features, columns=categorical_cols, drop_first=True)\n",
        "\n",
        "print(\"\\nFeatures DataFrame after One-Hot Encoding preview:\")\n",
        "print(X.head())\n",
        "print(X.info())"
      ],
      "metadata": {
        "colab": {
          "base_uri": "https://localhost:8080/"
        },
        "id": "WR_95agoZKU4",
        "outputId": "a96cfb77-b30b-4cd8-b01f-44827d57adb6"
      },
      "execution_count": 44,
      "outputs": [
        {
          "output_type": "stream",
          "name": "stdout",
          "text": [
            "\n",
            "--- Step 3: Handling Categorical Variables (One-Hot Encoding) ---\n",
            "\n",
            "Features DataFrame after One-Hot Encoding preview:\n",
            "   year  pesticides_tonnes  average_rain_fall_mm_per_year  avg_temp  \\\n",
            "0  1961       38414.593847                    1142.832563     14.23   \n",
            "1  1962       38414.593847                    1142.832563     14.10   \n",
            "2  1963       38414.593847                    1142.832563     15.01   \n",
            "3  1964       38414.593847                    1142.832563     13.73   \n",
            "4  1965       38414.593847                    1142.832563     13.90   \n",
            "\n",
            "   country_Albania  country_Algeria  country_American Samoa  country_Angola  \\\n",
            "0            False            False                   False           False   \n",
            "1            False            False                   False           False   \n",
            "2            False            False                   False           False   \n",
            "3            False            False                   False           False   \n",
            "4            False            False                   False           False   \n",
            "\n",
            "   country_Antigua and Barbuda  country_Argentina  ...  country_Zimbabwe  \\\n",
            "0                        False              False  ...             False   \n",
            "1                        False              False  ...             False   \n",
            "2                        False              False  ...             False   \n",
            "3                        False              False  ...             False   \n",
            "4                        False              False  ...             False   \n",
            "\n",
            "   Crop_Maize  Crop_Plantains and others  Crop_Potatoes  Crop_Rice, paddy  \\\n",
            "0        True                      False          False             False   \n",
            "1        True                      False          False             False   \n",
            "2        True                      False          False             False   \n",
            "3        True                      False          False             False   \n",
            "4        True                      False          False             False   \n",
            "\n",
            "   Crop_Sorghum  Crop_Soybeans  Crop_Sweet potatoes  Crop_Wheat  Crop_Yams  \n",
            "0         False          False                False       False      False  \n",
            "1         False          False                False       False      False  \n",
            "2         False          False                False       False      False  \n",
            "3         False          False                False       False      False  \n",
            "4         False          False                False       False      False  \n",
            "\n",
            "[5 rows x 224 columns]\n",
            "<class 'pandas.core.frame.DataFrame'>\n",
            "RangeIndex: 109366 entries, 0 to 109365\n",
            "Columns: 224 entries, year to Crop_Yams\n",
            "dtypes: bool(220), float64(3), int64(1)\n",
            "memory usage: 26.3 MB\n",
            "None\n"
          ]
        }
      ]
    },
    {
      "cell_type": "markdown",
      "source": [
        "Step 4: Split Data into Training and Testing Sets"
      ],
      "metadata": {
        "id": "uCa0BMbNZZDk"
      }
    },
    {
      "cell_type": "code",
      "source": [
        "# This is a critical step. We split the data into training and testing sets *before*\n",
        "# scaling to prevent data leakage, which would cause the model to learn information\n",
        "# from the test set and give an artificially high performance score.\n",
        "print(\"\\n--- Step 4: Splitting the Data into Training and Testing Sets ---\")\n",
        "X_train, X_test, y_train, y_test = train_test_split(X, y, test_size=0.2, random_state=42)\n",
        "\n",
        "print(f\"Shape of X_train: {X_train.shape}\")\n",
        "print(f\"Shape of X_test: {X_test.shape}\")\n",
        "print(f\"Shape of y_train: {y_train.shape}\")\n",
        "print(f\"Shape of y_test: {y_test.shape}\")"
      ],
      "metadata": {
        "colab": {
          "base_uri": "https://localhost:8080/"
        },
        "id": "C2A5OkEsZWaI",
        "outputId": "ab2081eb-ffb6-43f1-dbbc-290a004f8c5b"
      },
      "execution_count": 45,
      "outputs": [
        {
          "output_type": "stream",
          "name": "stdout",
          "text": [
            "\n",
            "--- Step 4: Splitting the Data into Training and Testing Sets ---\n",
            "Shape of X_train: (87492, 224)\n",
            "Shape of X_test: (21874, 224)\n",
            "Shape of y_train: (87492,)\n",
            "Shape of y_test: (21874,)\n"
          ]
        }
      ]
    },
    {
      "cell_type": "markdown",
      "source": [
        "Step 5: Normalize and Scale the Data with MinMaxScaler"
      ],
      "metadata": {
        "id": "poLC7rFvZlRW"
      }
    },
    {
      "cell_type": "code",
      "source": [
        "# We'll use MinMaxScaler to scale both the features and the target variable\n",
        "# so all values fall between 0 and 1. This is a common requirement for certain\n",
        "# algorithms and ensures all features contribute equally.\n",
        "print(\"\\n--- Step 5: Scaling the Data with MinMaxScaler ---\")\n",
        "\n",
        "# Initialize the scalers for features and the target separately\n",
        "feature_scaler = MinMaxScaler()\n",
        "target_scaler = MinMaxScaler()\n",
        "\n",
        "# Fit the feature scaler on the training data and transform both training and test data.\n",
        "X_train_scaled = feature_scaler.fit_transform(X_train)\n",
        "X_test_scaled = feature_scaler.transform(X_test)\n",
        "\n",
        "# Reshape the target data before scaling\n",
        "y_train_reshaped = y_train.values.reshape(-1, 1)\n",
        "y_test_reshaped = y_test.values.reshape(-1, 1)\n",
        "\n",
        "# Fit the target scaler on the training target and transform both training and test targets.\n",
        "y_train_scaled = target_scaler.fit_transform(y_train_reshaped).flatten()\n",
        "y_test_scaled = target_scaler.transform(y_test_reshaped).flatten()\n",
        "\n",
        "print(\"Data scaled successfully. All values are now between 0 and 1.\")\n"
      ],
      "metadata": {
        "colab": {
          "base_uri": "https://localhost:8080/"
        },
        "id": "5_P0pG8mZWXn",
        "outputId": "07c7da56-4d13-47b0-9747-20238553708d"
      },
      "execution_count": 46,
      "outputs": [
        {
          "output_type": "stream",
          "name": "stdout",
          "text": [
            "\n",
            "--- Step 5: Scaling the Data with MinMaxScaler ---\n",
            "Data scaled successfully. All values are now between 0 and 1.\n"
          ]
        }
      ]
    },
    {
      "cell_type": "markdown",
      "source": [
        "Step 6: Train the Model"
      ],
      "metadata": {
        "id": "TltfHRd9abrg"
      }
    },
    {
      "cell_type": "code",
      "source": [
        "# We now train the RandomForestRegressor model using the scaled training data.\n",
        "print(\"\\n--- Step 6: Training the RandomForestRegressor Model on scaled data ---\")\n",
        "model = RandomForestRegressor(n_estimators=100, random_state=42, n_jobs=-1)\n",
        "model.fit(X_train_scaled, y_train_scaled)\n",
        "print(\"Model trained successfully on scaled data.\")"
      ],
      "metadata": {
        "colab": {
          "base_uri": "https://localhost:8080/"
        },
        "id": "eEieVGtwZWTY",
        "outputId": "be08617c-97a1-4d7e-cd15-a58d2c975762"
      },
      "execution_count": 47,
      "outputs": [
        {
          "output_type": "stream",
          "name": "stdout",
          "text": [
            "\n",
            "--- Step 6: Training the RandomForestRegressor Model on scaled data ---\n",
            "Model trained successfully on scaled data.\n"
          ]
        }
      ]
    },
    {
      "cell_type": "markdown",
      "source": [
        "\n",
        "Comprehensive Scaling Process"
      ],
      "metadata": {
        "id": "y2qdfurZNx5L"
      }
    },
    {
      "cell_type": "code",
      "source": [
        "# Features scaled to 0-1 range\n",
        "X_train_scaled = feature_scaler.fit_transform(X_train)\n",
        "X_test_scaled = feature_scaler.transform(X_test)\n",
        "\n",
        "# Target variable also scaled to 0-1 range\n",
        "y_train_scaled = target_scaler.fit_transform(y_train_reshaped).flatten()\n",
        "y_test_scaled = target_scaler.transform(y_test_reshaped).flatten()"
      ],
      "metadata": {
        "id": "TKFiJ30mNtwa"
      },
      "execution_count": 48,
      "outputs": []
    },
    {
      "cell_type": "markdown",
      "source": [
        "Step 7: Evaluate the Model"
      ],
      "metadata": {
        "id": "U55UrQnRNdq9"
      }
    },
    {
      "cell_type": "code",
      "source": [
        "# We make predictions on the scaled test data and then reverse the scaling\n",
        "# to get the metrics in the original units for a more meaningful interpretation.\n",
        "print(\"\\n--- Step 7: Evaluating the Model on scaled data ---\")\n",
        "y_pred_scaled = model.predict(X_test_scaled)\n",
        "\n",
        "# Inverse transform the scaled predictions to their original units\n",
        "y_pred = target_scaler.inverse_transform(y_pred_scaled.reshape(-1, 1)).flatten()\n",
        "y_test_original = y_test.values\n",
        "\n",
        "# Calculate evaluation metrics using the original-scaled values\n",
        "mae = mean_absolute_error(y_test_original, y_pred)\n",
        "mse = mean_squared_error(y_test_original, y_pred)\n",
        "rmse = np.sqrt(mse)\n",
        "r2 = r2_score(y_test_original, y_pred)\n",
        "\n",
        "print(f\"Mean Absolute Error (MAE): {mae:.2f}\")\n",
        "print(f\"Mean Squared Error (MSE): {mse:.2f}\")\n",
        "print(f\"Root Mean Squared Error (RMSE): {rmse:.2f}\")\n",
        "print(f\"R-squared (R2 Score): {r2:.4f}\")\n",
        "\n",
        "print(\"\\nMachine learning pipeline with scaling and training complete!\")"
      ],
      "metadata": {
        "id": "3K30UOPCZWQh",
        "colab": {
          "base_uri": "https://localhost:8080/"
        },
        "outputId": "f05ff0c1-a403-425b-b33a-6c4abe16888a"
      },
      "execution_count": 49,
      "outputs": [
        {
          "output_type": "stream",
          "name": "stdout",
          "text": [
            "\n",
            "--- Step 7: Evaluating the Model on scaled data ---\n",
            "Mean Absolute Error (MAE): 3244.89\n",
            "Mean Squared Error (MSE): 123556110.26\n",
            "Root Mean Squared Error (RMSE): 11115.58\n",
            "R-squared (R2 Score): 0.9747\n",
            "\n",
            "Machine learning pipeline with scaling and training complete!\n"
          ]
        }
      ]
    },
    {
      "cell_type": "markdown",
      "source": [
        "Try Additional Algorithms:"
      ],
      "metadata": {
        "id": "KMvAc8F5OTKG"
      }
    },
    {
      "cell_type": "code",
      "source": [
        "from sklearn.linear_model import LinearRegression\n",
        "from sklearn.svm import SVR\n",
        "from sklearn.ensemble import GradientBoostingRegressor\n",
        "from sklearn.neural_network import MLPRegressor\n",
        "\n",
        "# Compare multiple algorithms\n",
        "algorithms = {\n",
        "    'Random Forest': RandomForestRegressor(n_estimators=100, random_state=42),\n",
        "    'Gradient Boosting': GradientBoostingRegressor(random_state=42),\n",
        "    'SVR': SVR(kernel='rbf'),\n",
        "    'Neural Network': MLPRegressor(hidden_layer_sizes=(100,), random_state=42, max_iter=1000)\n",
        "}\n"
      ],
      "metadata": {
        "id": "ICHHvVY7OSVk"
      },
      "execution_count": 51,
      "outputs": []
    },
    {
      "cell_type": "markdown",
      "source": [
        "Cross-Validation for Robustness:"
      ],
      "metadata": {
        "id": "truZ81KJObS5"
      }
    },
    {
      "cell_type": "code",
      "source": [
        "# Quick validation with reduced parameters\n",
        "light_rf = RandomForestRegressor(n_estimators=30, max_depth=15, random_state=42, n_jobs=1)\n",
        "cv_scores = cross_val_score(light_rf, X_train_scaled, y_train_scaled, cv=3, scoring='r2')\n",
        "print(f\"Cross-validation R² scores: {cv_scores}\")\n",
        "print(f\"Mean CV R² score: {cv_scores.mean():.4f}\")\n"
      ],
      "metadata": {
        "colab": {
          "base_uri": "https://localhost:8080/"
        },
        "id": "SO3yZPIOQrLA",
        "outputId": "9d577077-4413-4e4b-81b2-a8f72d958019"
      },
      "execution_count": 52,
      "outputs": [
        {
          "output_type": "stream",
          "name": "stdout",
          "text": [
            "Cross-validation R² scores: [0.88483863 0.8846808  0.89174281]\n",
            "Mean CV R² score: 0.8871\n"
          ]
        }
      ]
    },
    {
      "cell_type": "markdown",
      "source": [
        "Feature Importance Analysis:"
      ],
      "metadata": {
        "id": "6NiBekNzOhYF"
      }
    },
    {
      "cell_type": "code",
      "source": [
        "# --- Feature Importance Analysis ---\n",
        "print(\"\\n--- Feature Importance Analysis ---\")\n",
        "\n",
        "# Get feature importance from your original trained model\n",
        "feature_importance = pd.DataFrame({\n",
        "    'feature': X.columns,  # Feature names from your original X dataframe\n",
        "    'importance': model.feature_importances_  # Importance scores from your trained model\n",
        "}).sort_values('importance', ascending=False)\n",
        "\n",
        "# Display top 15 most important features\n",
        "print(\"Top 15 most important features for yield prediction:\")\n",
        "print(feature_importance.head(15))\n",
        "\n",
        "# Create a visualization of feature importance\n",
        "import matplotlib.pyplot as plt\n",
        "\n",
        "plt.figure(figsize=(12, 8))\n",
        "top_features = feature_importance.head(10)\n",
        "plt.barh(range(len(top_features)), top_features['importance'])\n",
        "plt.yticks(range(len(top_features)), top_features['feature'])\n",
        "plt.xlabel('Feature Importance')\n",
        "plt.title('Top 10 Most Important Features for Crop Yield Prediction')\n",
        "plt.gca().invert_yaxis()  # Highest importance at top\n",
        "plt.tight_layout()\n",
        "plt.show()\n",
        "\n",
        "# Show percentage contribution of top features\n",
        "print(f\"\\nTop 10 features contribute {top_features['importance'].sum():.2%} of total importance\")\n",
        "\n",
        "# Cumulative importance analysis\n",
        "feature_importance['cumulative_importance'] = feature_importance['importance'].cumsum()\n",
        "features_90_percent = feature_importance[feature_importance['cumulative_importance'] <= 0.90]\n",
        "print(f\"\\nNumber of features needed for 90% of predictive power: {len(features_90_percent)}\")\n",
        "\n"
      ],
      "metadata": {
        "colab": {
          "base_uri": "https://localhost:8080/",
          "height": 985
        },
        "id": "1Qu4X74ROSOH",
        "outputId": "cda7d5b0-2b97-4b3b-d5bb-d2b44bc4a5fe"
      },
      "execution_count": 53,
      "outputs": [
        {
          "output_type": "stream",
          "name": "stdout",
          "text": [
            "\n",
            "--- Feature Importance Analysis ---\n",
            "Top 15 most important features for yield prediction:\n",
            "                           feature  importance\n",
            "217                  Crop_Potatoes    0.255933\n",
            "221            Crop_Sweet potatoes    0.087812\n",
            "0                             year    0.084179\n",
            "218               Crop_Rice, paddy    0.072498\n",
            "2    average_rain_fall_mm_per_year    0.049098\n",
            "3                         avg_temp    0.044033\n",
            "1                pesticides_tonnes    0.042192\n",
            "215                     Crop_Maize    0.039679\n",
            "94                   country_India    0.027733\n",
            "222                     Crop_Wheat    0.021489\n",
            "219                   Crop_Sorghum    0.018505\n",
            "102                  country_Japan    0.017826\n",
            "220                  Crop_Soybeans    0.017566\n",
            "41                   country_China    0.015188\n",
            "202         country_United Kingdom    0.014614\n"
          ]
        },
        {
          "output_type": "display_data",
          "data": {
            "text/plain": [
              "<Figure size 1200x800 with 1 Axes>"
            ],
            "image/png": "[encoded data removed]"
          },
          "metadata": {}
        },
        {
          "output_type": "stream",
          "name": "stdout",
          "text": [
            "\n",
            "Top 10 features contribute 72.46% of total importance\n",
            "\n",
            "Number of features needed for 90% of predictive power: 34\n"
          ]
        }
      ]
    },
    {
      "cell_type": "markdown",
      "source": [
        "Create a Simplified Model:"
      ],
      "metadata": {
        "id": "aaauVlrmRz4L"
      }
    },
    {
      "cell_type": "code",
      "source": [
        "# Use only top N most important features\n",
        "top_n_features = 20  # Adjust based on your results\n",
        "important_features = feature_importance.head(top_n_features)['feature'].tolist()\n",
        "\n",
        "# Create simplified dataset\n",
        "X_simplified = X[important_features]\n",
        "X_train_simp, X_test_simp, _, _ = train_test_split(X_simplified, y, test_size=0.2, random_state=42)\n",
        "\n",
        "# Scale simplified features\n",
        "scaler_simp = MinMaxScaler()\n",
        "X_train_simp_scaled = scaler_simp.fit_transform(X_train_simp)\n",
        "X_test_simp_scaled = scaler_simp.transform(X_test_simp)\n",
        "\n",
        "# Train simplified model\n",
        "model_simplified = RandomForestRegressor(n_estimators=100, random_state=42)\n",
        "model_simplified.fit(X_train_simp_scaled, y_train_scaled)\n",
        "\n",
        "# Evaluate simplified model\n",
        "y_pred_simp = model_simplified.predict(X_test_simp_scaled)\n",
        "r2_simplified = r2_score(y_test_scaled, y_pred_simp)\n",
        "print(f\"Simplified model R² score: {r2_simplified:.4f}\")\n"
      ],
      "metadata": {
        "colab": {
          "base_uri": "https://localhost:8080/"
        },
        "id": "Kwhf_OtTRwEt",
        "outputId": "3f302f91-a1a1-46a4-d190-c717a91ccb06"
      },
      "execution_count": 54,
      "outputs": [
        {
          "output_type": "stream",
          "name": "stdout",
          "text": [
            "Simplified model R² score: 0.8805\n"
          ]
        }
      ]
    },
    {
      "cell_type": "markdown",
      "source": [
        "Save the model\n"
      ],
      "metadata": {
        "id": "PIiRI1lJRjiF"
      }
    },
    {
      "cell_type": "code",
      "source": [
        "import joblib\n",
        "\n",
        "# Save all components for future use\n",
        "joblib.dump(model, 'crop_yield_model.pkl')\n",
        "joblib.dump(feature_scaler, 'feature_scaler.pkl')\n",
        "joblib.dump(target_scaler, 'target_scaler.pkl')\n",
        "joblib.dump(X.columns.tolist(), 'feature_names.pkl')\n",
        "\n",
        "print(\"Model pipeline saved successfully!\")\n"
      ],
      "metadata": {
        "id": "3_vzFmcvZV6r",
        "colab": {
          "base_uri": "https://localhost:8080/"
        },
        "outputId": "dfeffd2a-0a9a-48c7-b502-3df4edd6a256"
      },
      "execution_count": 55,
      "outputs": [
        {
          "output_type": "stream",
          "name": "stdout",
          "text": [
            "Model pipeline saved successfully!\n"
          ]
        }
      ]
    }
  ]
}